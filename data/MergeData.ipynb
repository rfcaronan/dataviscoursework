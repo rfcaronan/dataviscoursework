{
 "cells": [
  {
   "cell_type": "code",
   "execution_count": 1,
   "metadata": {},
   "outputs": [],
   "source": [
    "import pandas as pd\n",
    "import matplotlib.pyplot as plt\n",
    "import xlrd"
   ]
  },
  {
   "cell_type": "code",
   "execution_count": 94,
   "metadata": {},
   "outputs": [],
   "source": [
    "survey = pd.read_excel(open(\"Global Party Survey by Party Excel V1 10_Feb_2020.xlsx\", \"rb\"), sheet_name=\"Global Party Survey by Party Ex\")\n",
    "wiid = pd.read_excel(open(\"WIID_17Dec2019.xlsx\", \"rb\"), sheet_name=\"Sheet2\")\n",
    "gini= pd.read_excel(open(\"WIID_17Dec2019.xlsx\", \"rb\"), sheet_name=\"Sheet5\")"
   ]
  },
  {
   "cell_type": "code",
   "execution_count": 95,
   "metadata": {},
   "outputs": [],
   "source": [
    "survey = pd.DataFrame(survey)\n",
    "wiid = pd.DataFrame(wiid)\n",
    "gini = pd.DataFrame(gini)"
   ]
  },
  {
   "cell_type": "code",
   "execution_count": 96,
   "metadata": {},
   "outputs": [
    {
     "data": {
      "text/html": [
       "<div>\n",
       "<style scoped>\n",
       "    .dataframe tbody tr th:only-of-type {\n",
       "        vertical-align: middle;\n",
       "    }\n",
       "\n",
       "    .dataframe tbody tr th {\n",
       "        vertical-align: top;\n",
       "    }\n",
       "\n",
       "    .dataframe thead th {\n",
       "        text-align: right;\n",
       "    }\n",
       "</style>\n",
       "<table border=\"1\" class=\"dataframe\">\n",
       "  <thead>\n",
       "    <tr style=\"text-align: right;\">\n",
       "      <th></th>\n",
       "      <th>ID_GPS</th>\n",
       "      <th>ISO</th>\n",
       "      <th>Country</th>\n",
       "      <th>Partyname</th>\n",
       "      <th>Partyabb</th>\n",
       "      <th>CPARTY</th>\n",
       "      <th>CPARTYABB</th>\n",
       "      <th>Region</th>\n",
       "      <th>Experts</th>\n",
       "      <th>Min_Experts</th>\n",
       "      <th>...</th>\n",
       "      <th>v2psprbrch_osp</th>\n",
       "      <th>v2psprbrch_ord</th>\n",
       "      <th>v2psprlnks</th>\n",
       "      <th>v2psprlnks_osp</th>\n",
       "      <th>v2psprlnks_ord</th>\n",
       "      <th>v2psplats</th>\n",
       "      <th>v2psplats_osp</th>\n",
       "      <th>v2psplats_ord</th>\n",
       "      <th>v2xnp_client</th>\n",
       "      <th>v2xps_party</th>\n",
       "    </tr>\n",
       "  </thead>\n",
       "  <tbody>\n",
       "    <tr>\n",
       "      <th>0</th>\n",
       "      <td>1.0</td>\n",
       "      <td>AFG</td>\n",
       "      <td>Afghanistan</td>\n",
       "      <td>Islamic Society</td>\n",
       "      <td>JI</td>\n",
       "      <td>AFG_ Islamic Society</td>\n",
       "      <td>AFG_ JI</td>\n",
       "      <td>6.0</td>\n",
       "      <td>11.0</td>\n",
       "      <td>1.0</td>\n",
       "      <td>...</td>\n",
       "      <td>1.401</td>\n",
       "      <td>1.0</td>\n",
       "      <td>-0.081</td>\n",
       "      <td>1.901</td>\n",
       "      <td>2.0</td>\n",
       "      <td>-0.322</td>\n",
       "      <td>1.561</td>\n",
       "      <td>1.0</td>\n",
       "      <td>0.685</td>\n",
       "      <td>0.295</td>\n",
       "    </tr>\n",
       "  </tbody>\n",
       "</table>\n",
       "<p>1 rows × 154 columns</p>\n",
       "</div>"
      ],
      "text/plain": [
       "   ID_GPS  ISO      Country        Partyname Partyabb                CPARTY  \\\n",
       "0     1.0  AFG  Afghanistan  Islamic Society       JI  AFG_ Islamic Society   \n",
       "\n",
       "  CPARTYABB  Region  Experts  Min_Experts  ...  v2psprbrch_osp  \\\n",
       "0   AFG_ JI     6.0     11.0          1.0  ...           1.401   \n",
       "\n",
       "   v2psprbrch_ord  v2psprlnks  v2psprlnks_osp  v2psprlnks_ord  v2psplats  \\\n",
       "0             1.0      -0.081           1.901             2.0     -0.322   \n",
       "\n",
       "   v2psplats_osp  v2psplats_ord  v2xnp_client  v2xps_party  \n",
       "0          1.561            1.0         0.685        0.295  \n",
       "\n",
       "[1 rows x 154 columns]"
      ]
     },
     "execution_count": 96,
     "metadata": {},
     "output_type": "execute_result"
    }
   ],
   "source": [
    "survey.head(1)"
   ]
  },
  {
   "cell_type": "code",
   "execution_count": 97,
   "metadata": {},
   "outputs": [
    {
     "data": {
      "text/plain": [
       "(2670, 154)"
      ]
     },
     "execution_count": 97,
     "metadata": {},
     "output_type": "execute_result"
    }
   ],
   "source": [
    "survey.shape"
   ]
  },
  {
   "cell_type": "code",
   "execution_count": 98,
   "metadata": {},
   "outputs": [
    {
     "data": {
      "text/html": [
       "<div>\n",
       "<style scoped>\n",
       "    .dataframe tbody tr th:only-of-type {\n",
       "        vertical-align: middle;\n",
       "    }\n",
       "\n",
       "    .dataframe tbody tr th {\n",
       "        vertical-align: top;\n",
       "    }\n",
       "\n",
       "    .dataframe thead th {\n",
       "        text-align: right;\n",
       "    }\n",
       "</style>\n",
       "<table border=\"1\" class=\"dataframe\">\n",
       "  <thead>\n",
       "    <tr style=\"text-align: right;\">\n",
       "      <th></th>\n",
       "      <th>c3</th>\n",
       "      <th>region_un_sub</th>\n",
       "      <th>region_wb</th>\n",
       "      <th>eu</th>\n",
       "      <th>oecd</th>\n",
       "      <th>incomegroup</th>\n",
       "    </tr>\n",
       "  </thead>\n",
       "  <tbody>\n",
       "    <tr>\n",
       "      <th>0</th>\n",
       "      <td>AFG</td>\n",
       "      <td>Southern Asia</td>\n",
       "      <td>South Asia</td>\n",
       "      <td>Non-EU</td>\n",
       "      <td>Non-OECD</td>\n",
       "      <td>Low income</td>\n",
       "    </tr>\n",
       "  </tbody>\n",
       "</table>\n",
       "</div>"
      ],
      "text/plain": [
       "    c3  region_un_sub   region_wb      eu      oecd incomegroup\n",
       "0  AFG  Southern Asia  South Asia  Non-EU  Non-OECD  Low income"
      ]
     },
     "execution_count": 98,
     "metadata": {},
     "output_type": "execute_result"
    }
   ],
   "source": [
    "wiid.head(1)"
   ]
  },
  {
   "cell_type": "code",
   "execution_count": 99,
   "metadata": {},
   "outputs": [
    {
     "data": {
      "text/plain": [
       "(11685, 6)"
      ]
     },
     "execution_count": 99,
     "metadata": {},
     "output_type": "execute_result"
    }
   ],
   "source": [
    "wiid.shape"
   ]
  },
  {
   "cell_type": "code",
   "execution_count": 100,
   "metadata": {},
   "outputs": [
    {
     "data": {
      "text/html": [
       "<div>\n",
       "<style scoped>\n",
       "    .dataframe tbody tr th:only-of-type {\n",
       "        vertical-align: middle;\n",
       "    }\n",
       "\n",
       "    .dataframe tbody tr th {\n",
       "        vertical-align: top;\n",
       "    }\n",
       "\n",
       "    .dataframe thead th {\n",
       "        text-align: right;\n",
       "    }\n",
       "</style>\n",
       "<table border=\"1\" class=\"dataframe\">\n",
       "  <thead>\n",
       "    <tr style=\"text-align: right;\">\n",
       "      <th></th>\n",
       "      <th>ISO</th>\n",
       "      <th>Year_GNI</th>\n",
       "      <th>GINI</th>\n",
       "    </tr>\n",
       "  </thead>\n",
       "  <tbody>\n",
       "    <tr>\n",
       "      <th>0</th>\n",
       "      <td>ALB</td>\n",
       "      <td>2012</td>\n",
       "      <td>28.96</td>\n",
       "    </tr>\n",
       "  </tbody>\n",
       "</table>\n",
       "</div>"
      ],
      "text/plain": [
       "   ISO  Year_GNI   GINI\n",
       "0  ALB      2012  28.96"
      ]
     },
     "execution_count": 100,
     "metadata": {},
     "output_type": "execute_result"
    }
   ],
   "source": [
    "gini.head(1)"
   ]
  },
  {
   "cell_type": "code",
   "execution_count": 101,
   "metadata": {},
   "outputs": [],
   "source": [
    "wiid.rename(columns={\"c3\":\"ISO\"}, inplace = True)\n",
    "gini.rename(columns={\"ISO\":\"ISO\"}, inplace = True)"
   ]
  },
  {
   "cell_type": "code",
   "execution_count": 102,
   "metadata": {},
   "outputs": [
    {
     "data": {
      "text/html": [
       "<div>\n",
       "<style scoped>\n",
       "    .dataframe tbody tr th:only-of-type {\n",
       "        vertical-align: middle;\n",
       "    }\n",
       "\n",
       "    .dataframe tbody tr th {\n",
       "        vertical-align: top;\n",
       "    }\n",
       "\n",
       "    .dataframe thead th {\n",
       "        text-align: right;\n",
       "    }\n",
       "</style>\n",
       "<table border=\"1\" class=\"dataframe\">\n",
       "  <thead>\n",
       "    <tr style=\"text-align: right;\">\n",
       "      <th></th>\n",
       "      <th>ISO</th>\n",
       "      <th>region_un_sub</th>\n",
       "      <th>region_wb</th>\n",
       "      <th>eu</th>\n",
       "      <th>oecd</th>\n",
       "      <th>incomegroup</th>\n",
       "    </tr>\n",
       "  </thead>\n",
       "  <tbody>\n",
       "    <tr>\n",
       "      <th>0</th>\n",
       "      <td>AFG</td>\n",
       "      <td>Southern Asia</td>\n",
       "      <td>South Asia</td>\n",
       "      <td>Non-EU</td>\n",
       "      <td>Non-OECD</td>\n",
       "      <td>Low income</td>\n",
       "    </tr>\n",
       "  </tbody>\n",
       "</table>\n",
       "</div>"
      ],
      "text/plain": [
       "   ISO  region_un_sub   region_wb      eu      oecd incomegroup\n",
       "0  AFG  Southern Asia  South Asia  Non-EU  Non-OECD  Low income"
      ]
     },
     "execution_count": 102,
     "metadata": {},
     "output_type": "execute_result"
    }
   ],
   "source": [
    "wiid.head(1)"
   ]
  },
  {
   "cell_type": "code",
   "execution_count": 103,
   "metadata": {},
   "outputs": [
    {
     "data": {
      "text/html": [
       "<div>\n",
       "<style scoped>\n",
       "    .dataframe tbody tr th:only-of-type {\n",
       "        vertical-align: middle;\n",
       "    }\n",
       "\n",
       "    .dataframe tbody tr th {\n",
       "        vertical-align: top;\n",
       "    }\n",
       "\n",
       "    .dataframe thead th {\n",
       "        text-align: right;\n",
       "    }\n",
       "</style>\n",
       "<table border=\"1\" class=\"dataframe\">\n",
       "  <thead>\n",
       "    <tr style=\"text-align: right;\">\n",
       "      <th></th>\n",
       "      <th>ISO</th>\n",
       "      <th>region_un_sub</th>\n",
       "      <th>region_wb</th>\n",
       "      <th>eu</th>\n",
       "      <th>oecd</th>\n",
       "      <th>incomegroup</th>\n",
       "      <th>Year_GNI</th>\n",
       "      <th>GINI</th>\n",
       "    </tr>\n",
       "  </thead>\n",
       "  <tbody>\n",
       "    <tr>\n",
       "      <th>11163</th>\n",
       "      <td>USA</td>\n",
       "      <td>Northern America</td>\n",
       "      <td>North America</td>\n",
       "      <td>Non-EU</td>\n",
       "      <td>Non-OECD</td>\n",
       "      <td>High income</td>\n",
       "      <td>2016.0</td>\n",
       "      <td>41.50</td>\n",
       "    </tr>\n",
       "    <tr>\n",
       "      <th>228</th>\n",
       "      <td>ARM</td>\n",
       "      <td>Western Asia</td>\n",
       "      <td>Europe and Central Asia</td>\n",
       "      <td>Non-EU</td>\n",
       "      <td>Non-OECD</td>\n",
       "      <td>Upper middle income</td>\n",
       "      <td>2017.0</td>\n",
       "      <td>33.62</td>\n",
       "    </tr>\n",
       "  </tbody>\n",
       "</table>\n",
       "</div>"
      ],
      "text/plain": [
       "       ISO     region_un_sub                region_wb      eu      oecd  \\\n",
       "11163  USA  Northern America            North America  Non-EU  Non-OECD   \n",
       "228    ARM      Western Asia  Europe and Central Asia  Non-EU  Non-OECD   \n",
       "\n",
       "               incomegroup  Year_GNI   GINI  \n",
       "11163          High income    2016.0  41.50  \n",
       "228    Upper middle income    2017.0  33.62  "
      ]
     },
     "execution_count": 103,
     "metadata": {},
     "output_type": "execute_result"
    }
   ],
   "source": [
    "#Merge wiid and gini\n",
    "wiid_gini = wiid.merge(gini, on=\"ISO\", how=\"left\")\n",
    "wiid_gini.sample(2)"
   ]
  },
  {
   "cell_type": "code",
   "execution_count": 104,
   "metadata": {},
   "outputs": [
    {
     "data": {
      "text/plain": [
       "(11685, 8)"
      ]
     },
     "execution_count": 104,
     "metadata": {},
     "output_type": "execute_result"
    }
   ],
   "source": [
    "wiid_gini.shape"
   ]
  },
  {
   "cell_type": "code",
   "execution_count": 114,
   "metadata": {},
   "outputs": [],
   "source": [
    "#Merge wiid_gini and survey\n",
    "#left_on='lkey', right_on='rkey', suffixes=(False, False)\n",
    "data = survey.merge(wiid_gini, on=\"ISO\", how=\"left\", indicator=\"True\")"
   ]
  },
  {
   "cell_type": "code",
   "execution_count": 115,
   "metadata": {},
   "outputs": [
    {
     "data": {
      "text/html": [
       "<div>\n",
       "<style scoped>\n",
       "    .dataframe tbody tr th:only-of-type {\n",
       "        vertical-align: middle;\n",
       "    }\n",
       "\n",
       "    .dataframe tbody tr th {\n",
       "        vertical-align: top;\n",
       "    }\n",
       "\n",
       "    .dataframe thead th {\n",
       "        text-align: right;\n",
       "    }\n",
       "</style>\n",
       "<table border=\"1\" class=\"dataframe\">\n",
       "  <thead>\n",
       "    <tr style=\"text-align: right;\">\n",
       "      <th></th>\n",
       "      <th>ID_GPS</th>\n",
       "      <th>ISO</th>\n",
       "      <th>Country</th>\n",
       "      <th>Partyname</th>\n",
       "      <th>Partyabb</th>\n",
       "      <th>CPARTY</th>\n",
       "      <th>CPARTYABB</th>\n",
       "      <th>Region</th>\n",
       "      <th>Experts</th>\n",
       "      <th>Min_Experts</th>\n",
       "      <th>...</th>\n",
       "      <th>v2xnp_client</th>\n",
       "      <th>v2xps_party</th>\n",
       "      <th>region_un_sub</th>\n",
       "      <th>region_wb</th>\n",
       "      <th>eu</th>\n",
       "      <th>oecd</th>\n",
       "      <th>incomegroup</th>\n",
       "      <th>Year_GNI</th>\n",
       "      <th>GINI</th>\n",
       "      <th>True</th>\n",
       "    </tr>\n",
       "  </thead>\n",
       "  <tbody>\n",
       "    <tr>\n",
       "      <th>7007</th>\n",
       "      <td>210.0</td>\n",
       "      <td>CRI</td>\n",
       "      <td>Costa Rica</td>\n",
       "      <td>National Restoration</td>\n",
       "      <td>PREN</td>\n",
       "      <td>CRI_ National Restoration</td>\n",
       "      <td>CRI_ PREN</td>\n",
       "      <td>2.0</td>\n",
       "      <td>9.0</td>\n",
       "      <td>1.0</td>\n",
       "      <td>...</td>\n",
       "      <td>0.116</td>\n",
       "      <td>0.646</td>\n",
       "      <td>Central America</td>\n",
       "      <td>Latin America and the Caribbean</td>\n",
       "      <td>Non-EU</td>\n",
       "      <td>Non-OECD</td>\n",
       "      <td>Upper middle income</td>\n",
       "      <td>2017.0</td>\n",
       "      <td>48.34</td>\n",
       "      <td>both</td>\n",
       "    </tr>\n",
       "    <tr>\n",
       "      <th>16430</th>\n",
       "      <td>523.0</td>\n",
       "      <td>KOR</td>\n",
       "      <td>Republic of Korea</td>\n",
       "      <td>Independents</td>\n",
       "      <td>Ind.</td>\n",
       "      <td>KOR_ Independents</td>\n",
       "      <td>KOR_ Ind.</td>\n",
       "      <td>6.0</td>\n",
       "      <td>13.0</td>\n",
       "      <td>1.0</td>\n",
       "      <td>...</td>\n",
       "      <td>0.117</td>\n",
       "      <td>0.873</td>\n",
       "      <td>Eastern Asia</td>\n",
       "      <td>East Asia and the Pacific</td>\n",
       "      <td>Non-EU</td>\n",
       "      <td>OECD</td>\n",
       "      <td>High income</td>\n",
       "      <td>2012.0</td>\n",
       "      <td>31.56</td>\n",
       "      <td>both</td>\n",
       "    </tr>\n",
       "  </tbody>\n",
       "</table>\n",
       "<p>2 rows × 162 columns</p>\n",
       "</div>"
      ],
      "text/plain": [
       "       ID_GPS  ISO            Country             Partyname Partyabb  \\\n",
       "7007    210.0  CRI         Costa Rica  National Restoration     PREN   \n",
       "16430   523.0  KOR  Republic of Korea          Independents     Ind.   \n",
       "\n",
       "                          CPARTY  CPARTYABB  Region  Experts  Min_Experts  \\\n",
       "7007   CRI_ National Restoration  CRI_ PREN     2.0      9.0          1.0   \n",
       "16430          KOR_ Independents  KOR_ Ind.     6.0     13.0          1.0   \n",
       "\n",
       "       ...  v2xnp_client  v2xps_party    region_un_sub  \\\n",
       "7007   ...         0.116        0.646  Central America   \n",
       "16430  ...         0.117        0.873     Eastern Asia   \n",
       "\n",
       "                             region_wb      eu      oecd          incomegroup  \\\n",
       "7007   Latin America and the Caribbean  Non-EU  Non-OECD  Upper middle income   \n",
       "16430        East Asia and the Pacific  Non-EU      OECD          High income   \n",
       "\n",
       "       Year_GNI   GINI  True  \n",
       "7007     2017.0  48.34  both  \n",
       "16430    2012.0  31.56  both  \n",
       "\n",
       "[2 rows x 162 columns]"
      ]
     },
     "execution_count": 115,
     "metadata": {},
     "output_type": "execute_result"
    }
   ],
   "source": [
    "data.sample(2)"
   ]
  },
  {
   "cell_type": "code",
   "execution_count": 117,
   "metadata": {},
   "outputs": [],
   "source": [
    "data[\"CPARTY\"]=data[\"CPARTY\"].str[4:]"
   ]
  },
  {
   "cell_type": "code",
   "execution_count": 82,
   "metadata": {},
   "outputs": [
    {
     "data": {
      "text/html": [
       "<div>\n",
       "<style scoped>\n",
       "    .dataframe tbody tr th:only-of-type {\n",
       "        vertical-align: middle;\n",
       "    }\n",
       "\n",
       "    .dataframe tbody tr th {\n",
       "        vertical-align: top;\n",
       "    }\n",
       "\n",
       "    .dataframe thead th {\n",
       "        text-align: right;\n",
       "    }\n",
       "</style>\n",
       "<table border=\"1\" class=\"dataframe\">\n",
       "  <thead>\n",
       "    <tr style=\"text-align: right;\">\n",
       "      <th></th>\n",
       "      <th>ID_GPS</th>\n",
       "      <th>ISO</th>\n",
       "      <th>Country</th>\n",
       "      <th>Partyname</th>\n",
       "      <th>Partyabb</th>\n",
       "      <th>CPARTY</th>\n",
       "      <th>CPARTYABB</th>\n",
       "      <th>Region</th>\n",
       "      <th>Experts</th>\n",
       "      <th>Min_Experts</th>\n",
       "      <th>...</th>\n",
       "      <th>v2xnp_client</th>\n",
       "      <th>v2xps_party</th>\n",
       "      <th>region_un_sub</th>\n",
       "      <th>region_wb</th>\n",
       "      <th>eu</th>\n",
       "      <th>oecd</th>\n",
       "      <th>incomegroup</th>\n",
       "      <th>Year_GNI</th>\n",
       "      <th>GINI</th>\n",
       "      <th>True</th>\n",
       "    </tr>\n",
       "  </thead>\n",
       "  <tbody>\n",
       "    <tr>\n",
       "      <th>0</th>\n",
       "      <td>1.0</td>\n",
       "      <td>AFG</td>\n",
       "      <td>Afghanistan</td>\n",
       "      <td>Islamic Society</td>\n",
       "      <td>JI</td>\n",
       "      <td>Islamic Society</td>\n",
       "      <td>AFG_ JI</td>\n",
       "      <td>6.0</td>\n",
       "      <td>11.0</td>\n",
       "      <td>1.0</td>\n",
       "      <td>...</td>\n",
       "      <td>0.685</td>\n",
       "      <td>0.295</td>\n",
       "      <td>Southern Asia</td>\n",
       "      <td>South Asia</td>\n",
       "      <td>Non-EU</td>\n",
       "      <td>Non-OECD</td>\n",
       "      <td>Low income</td>\n",
       "      <td>NaN</td>\n",
       "      <td>NaN</td>\n",
       "      <td>both</td>\n",
       "    </tr>\n",
       "    <tr>\n",
       "      <th>1</th>\n",
       "      <td>1.0</td>\n",
       "      <td>AFG</td>\n",
       "      <td>Afghanistan</td>\n",
       "      <td>Islamic Society</td>\n",
       "      <td>JI</td>\n",
       "      <td>Islamic Society</td>\n",
       "      <td>AFG_ JI</td>\n",
       "      <td>6.0</td>\n",
       "      <td>11.0</td>\n",
       "      <td>1.0</td>\n",
       "      <td>...</td>\n",
       "      <td>0.685</td>\n",
       "      <td>0.295</td>\n",
       "      <td>Southern Asia</td>\n",
       "      <td>South Asia</td>\n",
       "      <td>Non-EU</td>\n",
       "      <td>Non-OECD</td>\n",
       "      <td>Low income</td>\n",
       "      <td>NaN</td>\n",
       "      <td>NaN</td>\n",
       "      <td>both</td>\n",
       "    </tr>\n",
       "  </tbody>\n",
       "</table>\n",
       "<p>2 rows × 162 columns</p>\n",
       "</div>"
      ],
      "text/plain": [
       "   ID_GPS  ISO      Country        Partyname Partyabb            CPARTY  \\\n",
       "0     1.0  AFG  Afghanistan  Islamic Society       JI   Islamic Society   \n",
       "1     1.0  AFG  Afghanistan  Islamic Society       JI   Islamic Society   \n",
       "\n",
       "  CPARTYABB  Region  Experts  Min_Experts  ...  v2xnp_client  v2xps_party  \\\n",
       "0   AFG_ JI     6.0     11.0          1.0  ...         0.685        0.295   \n",
       "1   AFG_ JI     6.0     11.0          1.0  ...         0.685        0.295   \n",
       "\n",
       "   region_un_sub   region_wb      eu      oecd  incomegroup  Year_GNI  GINI  \\\n",
       "0  Southern Asia  South Asia  Non-EU  Non-OECD   Low income       NaN   NaN   \n",
       "1  Southern Asia  South Asia  Non-EU  Non-OECD   Low income       NaN   NaN   \n",
       "\n",
       "   True  \n",
       "0  both  \n",
       "1  both  \n",
       "\n",
       "[2 rows x 162 columns]"
      ]
     },
     "execution_count": 82,
     "metadata": {},
     "output_type": "execute_result"
    }
   ],
   "source": [
    "data.head(2)"
   ]
  },
  {
   "cell_type": "code",
   "execution_count": 83,
   "metadata": {},
   "outputs": [
    {
     "data": {
      "text/plain": [
       "array(['ID_GPS', 'ISO', 'Country', 'Partyname', 'Partyabb', 'CPARTY',\n",
       "       'CPARTYABB', 'Region', 'Experts', 'Min_Experts', 'TYPES',\n",
       "       'Type_Values', 'Type_Populism', 'Type_Populist_Values',\n",
       "       'Type_Partysize_vote', 'Type_Partysize_seat', 'CORE_GPS_ITEMS',\n",
       "       'V1', 'V2', 'V3', 'V4_Scale', 'V4_Bin', 'V4_Ord', 'V5', 'V6_Scale',\n",
       "       'V6_Bin', 'V6_Ord', 'V7', 'V8_Scale', 'V8_Bin', 'V8_Ord', 'V9',\n",
       "       'V10', 'V11', 'V12', 'V13', 'V14', 'V15', 'V16', 'V17', 'V18',\n",
       "       'V19', 'V20', 'V21', 'METAEXPERT', 'YoB', 'Gender', 'Born',\n",
       "       'Citizen', 'Partysupport', 'Ideology', 'Difficulty',\n",
       "       'LocationLatitude', 'LocationLongitude', 'Language', 'METAPARTY',\n",
       "       'Elec_code', 'Elec_year', 'PartyPerVote', 'PartyPerSeats', 'ENEP',\n",
       "       'ENPP', 'LSQINDEX', 'CHES_lrecon', 'CHES_lrecon_salience',\n",
       "       'CHES_galtan', 'CHES_galtan_salience', 'CHES_immigrate_policy',\n",
       "       'CHES_ethnic_minorities', 'CHES_people_vs_elite', 'CHES_experts',\n",
       "       'CHES_vote', 'CHES_seat', 'CHES_electionyear', 'CHES_family',\n",
       "       'CHES_govt', 'PG_family', 'PG_left_right', 'PG_state_market',\n",
       "       'PG_liberty_authority', 'PG_eu_anti_pro', 'Popu_List',\n",
       "       'WVS_LR_PartyVoter', 'WVS_LibCon_PartyVoter',\n",
       "       'WVS_Polmistrust_PartyVoter', 'WVS_LR_MedianVoter',\n",
       "       'WVS_LibCon_MedianVoter', 'LRdistancemedianvoter',\n",
       "       'LCdistancemedianvoter', 'LRdistanceownvoters',\n",
       "       'LCdistanceownvoters', 'PARTYIDCODES', 'ID_ParlGov',\n",
       "       'ID_PartyFacts', 'ID_CHES', 'ID_ESS', 'ID_CMP', 'ID_castles_mair',\n",
       "       'ID_huber_inglehart', 'ID_ray', 'ID_benoit_laver', 'ID_EES',\n",
       "       'ID_WVS', 'METACOUNTRY', 'CountryName', 'ID_Cow', 'ID_VDem',\n",
       "       'Region_9', 'Region_10', 'Region_19', 'OECD', 'polity', 'polity2',\n",
       "       'FH_Regime', 'FH_PoliticalRights', 'FH_CivilLiberties', 'Area',\n",
       "       'Pop1990', 'Pop2000', 'Pop2018', 'GDP', 'Longevity', 'Corruption',\n",
       "       'Electoral_Integrity', 'VDem_regime', 'v2x_polyarchy',\n",
       "       'v2x_libdem', 'v2xel_frefair', 'v2elfrfair', 'v2elfrfair_osp',\n",
       "       'v2elfrfair_ord', 'v2elloelsy', 'v2elparlel', 'v2elncbpr',\n",
       "       'Turnout', 'v2eltrnout', 'v2elvaptrn', 'v2psbars', 'v2psbars_osp',\n",
       "       'v2psbars_ord', 'v2psorgs', 'v2psorgs_osp', 'v2psorgs_ord',\n",
       "       'v2psprbrch', 'v2psprbrch_osp', 'v2psprbrch_ord', 'v2psprlnks',\n",
       "       'v2psprlnks_osp', 'v2psprlnks_ord', 'v2psplats', 'v2psplats_osp',\n",
       "       'v2psplats_ord', 'v2xnp_client', 'v2xps_party', 'region_un_sub',\n",
       "       'region_wb', 'eu', 'oecd', 'incomegroup', 'Year_GNI', 'GINI',\n",
       "       'True'], dtype=object)"
      ]
     },
     "execution_count": 83,
     "metadata": {},
     "output_type": "execute_result"
    }
   ],
   "source": [
    "data.columns.values"
   ]
  },
  {
   "cell_type": "code",
   "execution_count": 84,
   "metadata": {},
   "outputs": [],
   "source": [
    "data.to_excel(\"datavis.xlsx\", sheet_name=\"cleaned_data\")"
   ]
  },
  {
   "cell_type": "code",
   "execution_count": null,
   "metadata": {},
   "outputs": [],
   "source": []
  }
 ],
 "metadata": {
  "kernelspec": {
   "display_name": "Python 3",
   "language": "python",
   "name": "python3"
  },
  "language_info": {
   "codemirror_mode": {
    "name": "ipython",
    "version": 3
   },
   "file_extension": ".py",
   "mimetype": "text/x-python",
   "name": "python",
   "nbconvert_exporter": "python",
   "pygments_lexer": "ipython3",
   "version": "3.7.4"
  }
 },
 "nbformat": 4,
 "nbformat_minor": 2
}
