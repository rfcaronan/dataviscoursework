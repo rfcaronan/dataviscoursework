{
 "cells": [
  {
   "cell_type": "code",
   "execution_count": 1,
   "metadata": {},
   "outputs": [],
   "source": [
    "import pandas as pd\n",
    "import matplotlib.pyplot as plt\n",
    "import xlrd"
   ]
  },
  {
   "cell_type": "code",
   "execution_count": 2,
   "metadata": {},
   "outputs": [],
   "source": [
    "survey = pd.read_excel(open(\"Global Party Survey by Party Excel V1 10_Feb_2020.xlsx\", \"rb\"), sheet_name=\"Global Party Survey by Party Ex\")\n",
    "wiid = pd.read_excel(open(\"WIID_17Dec2019.xlsx\", \"rb\"), sheet_name=\"Sheet2\")\n",
    "gini= pd.read_excel(open(\"WIID_17Dec2019.xlsx\", \"rb\"), sheet_name=\"Sheet5\")"
   ]
  },
  {
   "cell_type": "code",
   "execution_count": 3,
   "metadata": {},
   "outputs": [],
   "source": [
    "survey = pd.DataFrame(survey)\n",
    "wiid = pd.DataFrame(wiid)\n",
    "gini = pd.DataFrame(gini)"
   ]
  },
  {
   "cell_type": "code",
   "execution_count": 4,
   "metadata": {},
   "outputs": [
    {
     "data": {
      "text/html": [
       "<div>\n",
       "<style scoped>\n",
       "    .dataframe tbody tr th:only-of-type {\n",
       "        vertical-align: middle;\n",
       "    }\n",
       "\n",
       "    .dataframe tbody tr th {\n",
       "        vertical-align: top;\n",
       "    }\n",
       "\n",
       "    .dataframe thead th {\n",
       "        text-align: right;\n",
       "    }\n",
       "</style>\n",
       "<table border=\"1\" class=\"dataframe\">\n",
       "  <thead>\n",
       "    <tr style=\"text-align: right;\">\n",
       "      <th></th>\n",
       "      <th>ID_GPS</th>\n",
       "      <th>ISO</th>\n",
       "      <th>Country</th>\n",
       "      <th>Partyname</th>\n",
       "      <th>Partyabb</th>\n",
       "      <th>CPARTY</th>\n",
       "      <th>CPARTYABB</th>\n",
       "      <th>Region</th>\n",
       "      <th>Experts</th>\n",
       "      <th>Min_Experts</th>\n",
       "      <th>...</th>\n",
       "      <th>v2psprbrch_osp</th>\n",
       "      <th>v2psprbrch_ord</th>\n",
       "      <th>v2psprlnks</th>\n",
       "      <th>v2psprlnks_osp</th>\n",
       "      <th>v2psprlnks_ord</th>\n",
       "      <th>v2psplats</th>\n",
       "      <th>v2psplats_osp</th>\n",
       "      <th>v2psplats_ord</th>\n",
       "      <th>v2xnp_client</th>\n",
       "      <th>v2xps_party</th>\n",
       "    </tr>\n",
       "  </thead>\n",
       "  <tbody>\n",
       "    <tr>\n",
       "      <th>0</th>\n",
       "      <td>1.0</td>\n",
       "      <td>AFG</td>\n",
       "      <td>Afghanistan</td>\n",
       "      <td>Islamic Society</td>\n",
       "      <td>JI</td>\n",
       "      <td>AFG_ Islamic Society</td>\n",
       "      <td>AFG_ JI</td>\n",
       "      <td>6.0</td>\n",
       "      <td>11.0</td>\n",
       "      <td>1.0</td>\n",
       "      <td>...</td>\n",
       "      <td>1.401</td>\n",
       "      <td>1.0</td>\n",
       "      <td>-0.081</td>\n",
       "      <td>1.901</td>\n",
       "      <td>2.0</td>\n",
       "      <td>-0.322</td>\n",
       "      <td>1.561</td>\n",
       "      <td>1.0</td>\n",
       "      <td>0.685</td>\n",
       "      <td>0.295</td>\n",
       "    </tr>\n",
       "  </tbody>\n",
       "</table>\n",
       "<p>1 rows × 154 columns</p>\n",
       "</div>"
      ],
      "text/plain": [
       "   ID_GPS  ISO      Country        Partyname Partyabb                CPARTY  \\\n",
       "0     1.0  AFG  Afghanistan  Islamic Society       JI  AFG_ Islamic Society   \n",
       "\n",
       "  CPARTYABB  Region  Experts  Min_Experts  ...  v2psprbrch_osp  \\\n",
       "0   AFG_ JI     6.0     11.0          1.0  ...           1.401   \n",
       "\n",
       "   v2psprbrch_ord  v2psprlnks  v2psprlnks_osp  v2psprlnks_ord  v2psplats  \\\n",
       "0             1.0      -0.081           1.901             2.0     -0.322   \n",
       "\n",
       "   v2psplats_osp  v2psplats_ord  v2xnp_client  v2xps_party  \n",
       "0          1.561            1.0         0.685        0.295  \n",
       "\n",
       "[1 rows x 154 columns]"
      ]
     },
     "execution_count": 4,
     "metadata": {},
     "output_type": "execute_result"
    }
   ],
   "source": [
    "survey.head(1)"
   ]
  },
  {
   "cell_type": "code",
   "execution_count": null,
   "metadata": {},
   "outputs": [],
   "source": []
  },
  {
   "cell_type": "code",
   "execution_count": 5,
   "metadata": {},
   "outputs": [
    {
     "data": {
      "text/html": [
       "<div>\n",
       "<style scoped>\n",
       "    .dataframe tbody tr th:only-of-type {\n",
       "        vertical-align: middle;\n",
       "    }\n",
       "\n",
       "    .dataframe tbody tr th {\n",
       "        vertical-align: top;\n",
       "    }\n",
       "\n",
       "    .dataframe thead th {\n",
       "        text-align: right;\n",
       "    }\n",
       "</style>\n",
       "<table border=\"1\" class=\"dataframe\">\n",
       "  <thead>\n",
       "    <tr style=\"text-align: right;\">\n",
       "      <th></th>\n",
       "      <th>c3</th>\n",
       "      <th>region_un_sub</th>\n",
       "      <th>region_wb</th>\n",
       "      <th>eu</th>\n",
       "      <th>oecd</th>\n",
       "      <th>incomegroup</th>\n",
       "    </tr>\n",
       "  </thead>\n",
       "  <tbody>\n",
       "    <tr>\n",
       "      <th>0</th>\n",
       "      <td>AFG</td>\n",
       "      <td>Southern Asia</td>\n",
       "      <td>South Asia</td>\n",
       "      <td>Non-EU</td>\n",
       "      <td>Non-OECD</td>\n",
       "      <td>Low income</td>\n",
       "    </tr>\n",
       "  </tbody>\n",
       "</table>\n",
       "</div>"
      ],
      "text/plain": [
       "    c3  region_un_sub   region_wb      eu      oecd incomegroup\n",
       "0  AFG  Southern Asia  South Asia  Non-EU  Non-OECD  Low income"
      ]
     },
     "execution_count": 5,
     "metadata": {},
     "output_type": "execute_result"
    }
   ],
   "source": [
    "wiid.head(1)"
   ]
  },
  {
   "cell_type": "code",
   "execution_count": 6,
   "metadata": {},
   "outputs": [
    {
     "data": {
      "text/html": [
       "<div>\n",
       "<style scoped>\n",
       "    .dataframe tbody tr th:only-of-type {\n",
       "        vertical-align: middle;\n",
       "    }\n",
       "\n",
       "    .dataframe tbody tr th {\n",
       "        vertical-align: top;\n",
       "    }\n",
       "\n",
       "    .dataframe thead th {\n",
       "        text-align: right;\n",
       "    }\n",
       "</style>\n",
       "<table border=\"1\" class=\"dataframe\">\n",
       "  <thead>\n",
       "    <tr style=\"text-align: right;\">\n",
       "      <th></th>\n",
       "      <th>ISO</th>\n",
       "      <th>Year_GNI</th>\n",
       "      <th>GINI</th>\n",
       "    </tr>\n",
       "  </thead>\n",
       "  <tbody>\n",
       "    <tr>\n",
       "      <th>0</th>\n",
       "      <td>ALB</td>\n",
       "      <td>2012</td>\n",
       "      <td>28.96</td>\n",
       "    </tr>\n",
       "  </tbody>\n",
       "</table>\n",
       "</div>"
      ],
      "text/plain": [
       "   ISO  Year_GNI   GINI\n",
       "0  ALB      2012  28.96"
      ]
     },
     "execution_count": 6,
     "metadata": {},
     "output_type": "execute_result"
    }
   ],
   "source": [
    "gini.head(1)"
   ]
  },
  {
   "cell_type": "code",
   "execution_count": 11,
   "metadata": {},
   "outputs": [],
   "source": [
    "wiid.rename(columns={\"c3\":\"ISO\"}, inplace = True)\n",
    "gini.rename(columns={\"ISO\":\"ISO\"}, inplace = True)"
   ]
  },
  {
   "cell_type": "code",
   "execution_count": 12,
   "metadata": {},
   "outputs": [
    {
     "data": {
      "text/html": [
       "<div>\n",
       "<style scoped>\n",
       "    .dataframe tbody tr th:only-of-type {\n",
       "        vertical-align: middle;\n",
       "    }\n",
       "\n",
       "    .dataframe tbody tr th {\n",
       "        vertical-align: top;\n",
       "    }\n",
       "\n",
       "    .dataframe thead th {\n",
       "        text-align: right;\n",
       "    }\n",
       "</style>\n",
       "<table border=\"1\" class=\"dataframe\">\n",
       "  <thead>\n",
       "    <tr style=\"text-align: right;\">\n",
       "      <th></th>\n",
       "      <th>ISO</th>\n",
       "      <th>region_un_sub</th>\n",
       "      <th>region_wb</th>\n",
       "      <th>eu</th>\n",
       "      <th>oecd</th>\n",
       "      <th>incomegroup</th>\n",
       "    </tr>\n",
       "  </thead>\n",
       "  <tbody>\n",
       "    <tr>\n",
       "      <th>0</th>\n",
       "      <td>AFG</td>\n",
       "      <td>Southern Asia</td>\n",
       "      <td>South Asia</td>\n",
       "      <td>Non-EU</td>\n",
       "      <td>Non-OECD</td>\n",
       "      <td>Low income</td>\n",
       "    </tr>\n",
       "  </tbody>\n",
       "</table>\n",
       "</div>"
      ],
      "text/plain": [
       "   ISO  region_un_sub   region_wb      eu      oecd incomegroup\n",
       "0  AFG  Southern Asia  South Asia  Non-EU  Non-OECD  Low income"
      ]
     },
     "execution_count": 12,
     "metadata": {},
     "output_type": "execute_result"
    }
   ],
   "source": [
    "wiid.head(1)"
   ]
  },
  {
   "cell_type": "code",
   "execution_count": 14,
   "metadata": {},
   "outputs": [
    {
     "data": {
      "text/html": [
       "<div>\n",
       "<style scoped>\n",
       "    .dataframe tbody tr th:only-of-type {\n",
       "        vertical-align: middle;\n",
       "    }\n",
       "\n",
       "    .dataframe tbody tr th {\n",
       "        vertical-align: top;\n",
       "    }\n",
       "\n",
       "    .dataframe thead th {\n",
       "        text-align: right;\n",
       "    }\n",
       "</style>\n",
       "<table border=\"1\" class=\"dataframe\">\n",
       "  <thead>\n",
       "    <tr style=\"text-align: right;\">\n",
       "      <th></th>\n",
       "      <th>ISO</th>\n",
       "      <th>region_un_sub</th>\n",
       "      <th>region_wb</th>\n",
       "      <th>eu</th>\n",
       "      <th>oecd</th>\n",
       "      <th>incomegroup</th>\n",
       "      <th>Year_GNI</th>\n",
       "      <th>GINI</th>\n",
       "    </tr>\n",
       "  </thead>\n",
       "  <tbody>\n",
       "    <tr>\n",
       "      <th>2884</th>\n",
       "      <td>DNK</td>\n",
       "      <td>Northern Europe</td>\n",
       "      <td>Europe and Central Asia</td>\n",
       "      <td>EU</td>\n",
       "      <td>OECD</td>\n",
       "      <td>High income</td>\n",
       "      <td>2015</td>\n",
       "      <td>28.17</td>\n",
       "    </tr>\n",
       "    <tr>\n",
       "      <th>1525</th>\n",
       "      <td>CAN</td>\n",
       "      <td>Northern America</td>\n",
       "      <td>North America</td>\n",
       "      <td>Non-EU</td>\n",
       "      <td>OECD</td>\n",
       "      <td>High income</td>\n",
       "      <td>2013</td>\n",
       "      <td>34.02</td>\n",
       "    </tr>\n",
       "  </tbody>\n",
       "</table>\n",
       "</div>"
      ],
      "text/plain": [
       "      ISO     region_un_sub                region_wb      eu  oecd  \\\n",
       "2884  DNK   Northern Europe  Europe and Central Asia      EU  OECD   \n",
       "1525  CAN  Northern America            North America  Non-EU  OECD   \n",
       "\n",
       "      incomegroup  Year_GNI   GINI  \n",
       "2884  High income      2015  28.17  \n",
       "1525  High income      2013  34.02  "
      ]
     },
     "execution_count": 14,
     "metadata": {},
     "output_type": "execute_result"
    }
   ],
   "source": [
    "#Merge wiid and gini\n",
    "wiid_gini = wiid.merge(gini)\n",
    "wiid_gini.sample(2)"
   ]
  },
  {
   "cell_type": "code",
   "execution_count": 17,
   "metadata": {},
   "outputs": [],
   "source": [
    "#Merge wiid_gini and survey\n",
    "data = survey.merge(wiid_gini, on=\"ISO\", how=\"right\")"
   ]
  },
  {
   "cell_type": "code",
   "execution_count": 18,
   "metadata": {},
   "outputs": [
    {
     "data": {
      "text/html": [
       "<div>\n",
       "<style scoped>\n",
       "    .dataframe tbody tr th:only-of-type {\n",
       "        vertical-align: middle;\n",
       "    }\n",
       "\n",
       "    .dataframe tbody tr th {\n",
       "        vertical-align: top;\n",
       "    }\n",
       "\n",
       "    .dataframe thead th {\n",
       "        text-align: right;\n",
       "    }\n",
       "</style>\n",
       "<table border=\"1\" class=\"dataframe\">\n",
       "  <thead>\n",
       "    <tr style=\"text-align: right;\">\n",
       "      <th></th>\n",
       "      <th>ID_GPS</th>\n",
       "      <th>ISO</th>\n",
       "      <th>Country</th>\n",
       "      <th>Partyname</th>\n",
       "      <th>Partyabb</th>\n",
       "      <th>CPARTY</th>\n",
       "      <th>CPARTYABB</th>\n",
       "      <th>Region</th>\n",
       "      <th>Experts</th>\n",
       "      <th>Min_Experts</th>\n",
       "      <th>...</th>\n",
       "      <th>v2psplats_ord</th>\n",
       "      <th>v2xnp_client</th>\n",
       "      <th>v2xps_party</th>\n",
       "      <th>region_un_sub</th>\n",
       "      <th>region_wb</th>\n",
       "      <th>eu</th>\n",
       "      <th>oecd</th>\n",
       "      <th>incomegroup</th>\n",
       "      <th>Year_GNI</th>\n",
       "      <th>GINI</th>\n",
       "    </tr>\n",
       "  </thead>\n",
       "  <tbody>\n",
       "    <tr>\n",
       "      <th>39399</th>\n",
       "      <td>668.0</td>\n",
       "      <td>MNE</td>\n",
       "      <td>Montenegro</td>\n",
       "      <td>Key Coalition</td>\n",
       "      <td>Kljuc</td>\n",
       "      <td>MNE_ Key Coalition</td>\n",
       "      <td>MNE_ Kljuc</td>\n",
       "      <td>1.0</td>\n",
       "      <td>8.0</td>\n",
       "      <td>1.0</td>\n",
       "      <td>...</td>\n",
       "      <td>4.0</td>\n",
       "      <td>0.754</td>\n",
       "      <td>0.667</td>\n",
       "      <td>Southern Europe</td>\n",
       "      <td>Europe and Central Asia</td>\n",
       "      <td>Non-EU</td>\n",
       "      <td>Non-OECD</td>\n",
       "      <td>Upper middle income</td>\n",
       "      <td>2014</td>\n",
       "      <td>31.93</td>\n",
       "    </tr>\n",
       "    <tr>\n",
       "      <th>3679</th>\n",
       "      <td>34.0</td>\n",
       "      <td>AUS</td>\n",
       "      <td>Australia</td>\n",
       "      <td>Liberal National Party</td>\n",
       "      <td>LNP</td>\n",
       "      <td>AUS_ Liberal National Party</td>\n",
       "      <td>AUS_ LNP</td>\n",
       "      <td>5.0</td>\n",
       "      <td>15.0</td>\n",
       "      <td>1.0</td>\n",
       "      <td>...</td>\n",
       "      <td>4.0</td>\n",
       "      <td>0.059</td>\n",
       "      <td>0.927</td>\n",
       "      <td>Australia and New Zealand</td>\n",
       "      <td>East Asia and the Pacific</td>\n",
       "      <td>Non-EU</td>\n",
       "      <td>OECD</td>\n",
       "      <td>High income</td>\n",
       "      <td>2014</td>\n",
       "      <td>35.84</td>\n",
       "    </tr>\n",
       "  </tbody>\n",
       "</table>\n",
       "<p>2 rows × 161 columns</p>\n",
       "</div>"
      ],
      "text/plain": [
       "       ID_GPS  ISO     Country               Partyname Partyabb  \\\n",
       "39399   668.0  MNE  Montenegro           Key Coalition    Kljuc   \n",
       "3679     34.0  AUS   Australia  Liberal National Party      LNP   \n",
       "\n",
       "                            CPARTY   CPARTYABB  Region  Experts  Min_Experts  \\\n",
       "39399           MNE_ Key Coalition  MNE_ Kljuc     1.0      8.0          1.0   \n",
       "3679   AUS_ Liberal National Party    AUS_ LNP     5.0     15.0          1.0   \n",
       "\n",
       "       ...  v2psplats_ord  v2xnp_client  v2xps_party  \\\n",
       "39399  ...            4.0         0.754        0.667   \n",
       "3679   ...            4.0         0.059        0.927   \n",
       "\n",
       "                   region_un_sub                  region_wb      eu      oecd  \\\n",
       "39399            Southern Europe    Europe and Central Asia  Non-EU  Non-OECD   \n",
       "3679   Australia and New Zealand  East Asia and the Pacific  Non-EU      OECD   \n",
       "\n",
       "               incomegroup  Year_GNI   GINI  \n",
       "39399  Upper middle income      2014  31.93  \n",
       "3679           High income      2014  35.84  \n",
       "\n",
       "[2 rows x 161 columns]"
      ]
     },
     "execution_count": 18,
     "metadata": {},
     "output_type": "execute_result"
    }
   ],
   "source": [
    "data.sample(2)"
   ]
  },
  {
   "cell_type": "code",
   "execution_count": 19,
   "metadata": {},
   "outputs": [
    {
     "name": "stdout",
     "output_type": "stream",
     "text": [
      "<class 'pandas.core.frame.DataFrame'>\n",
      "Int64Index: 75483 entries, 0 to 75482\n",
      "Columns: 161 entries, ID_GPS to GINI\n",
      "dtypes: float64(143), int64(1), object(17)\n",
      "memory usage: 93.3+ MB\n"
     ]
    }
   ],
   "source": [
    "data.info()"
   ]
  },
  {
   "cell_type": "code",
   "execution_count": 39,
   "metadata": {},
   "outputs": [],
   "source": [
    "data[\"CPARTY\"]=data[\"CPARTY\"].str[4:]"
   ]
  },
  {
   "cell_type": "code",
   "execution_count": 40,
   "metadata": {},
   "outputs": [
    {
     "data": {
      "text/html": [
       "<div>\n",
       "<style scoped>\n",
       "    .dataframe tbody tr th:only-of-type {\n",
       "        vertical-align: middle;\n",
       "    }\n",
       "\n",
       "    .dataframe tbody tr th {\n",
       "        vertical-align: top;\n",
       "    }\n",
       "\n",
       "    .dataframe thead th {\n",
       "        text-align: right;\n",
       "    }\n",
       "</style>\n",
       "<table border=\"1\" class=\"dataframe\">\n",
       "  <thead>\n",
       "    <tr style=\"text-align: right;\">\n",
       "      <th></th>\n",
       "      <th>ID_GPS</th>\n",
       "      <th>ISO</th>\n",
       "      <th>Country</th>\n",
       "      <th>Partyname</th>\n",
       "      <th>Partyabb</th>\n",
       "      <th>CPARTY</th>\n",
       "      <th>CPARTYABB</th>\n",
       "      <th>Region</th>\n",
       "      <th>Experts</th>\n",
       "      <th>Min_Experts</th>\n",
       "      <th>...</th>\n",
       "      <th>v2psplats</th>\n",
       "      <th>v2psplats_osp</th>\n",
       "      <th>v2psplats_ord</th>\n",
       "      <th>v2xnp_client</th>\n",
       "      <th>v2xps_party</th>\n",
       "      <th>region_un_sub</th>\n",
       "      <th>region_wb</th>\n",
       "      <th>eu</th>\n",
       "      <th>oecd</th>\n",
       "      <th>incomegroup</th>\n",
       "    </tr>\n",
       "  </thead>\n",
       "  <tbody>\n",
       "    <tr>\n",
       "      <th>0</th>\n",
       "      <td>1.0</td>\n",
       "      <td>AFG</td>\n",
       "      <td>Afghanistan</td>\n",
       "      <td>Islamic Society</td>\n",
       "      <td>JI</td>\n",
       "      <td>Islamic Society</td>\n",
       "      <td>AFG_ JI</td>\n",
       "      <td>6.0</td>\n",
       "      <td>11.0</td>\n",
       "      <td>1.0</td>\n",
       "      <td>...</td>\n",
       "      <td>-0.322</td>\n",
       "      <td>1.561</td>\n",
       "      <td>1.0</td>\n",
       "      <td>0.685</td>\n",
       "      <td>0.295</td>\n",
       "      <td>Southern Asia</td>\n",
       "      <td>South Asia</td>\n",
       "      <td>Non-EU</td>\n",
       "      <td>Non-OECD</td>\n",
       "      <td>Low income</td>\n",
       "    </tr>\n",
       "    <tr>\n",
       "      <th>1</th>\n",
       "      <td>1.0</td>\n",
       "      <td>AFG</td>\n",
       "      <td>Afghanistan</td>\n",
       "      <td>Islamic Society</td>\n",
       "      <td>JI</td>\n",
       "      <td>Islamic Society</td>\n",
       "      <td>AFG_ JI</td>\n",
       "      <td>6.0</td>\n",
       "      <td>11.0</td>\n",
       "      <td>1.0</td>\n",
       "      <td>...</td>\n",
       "      <td>-0.322</td>\n",
       "      <td>1.561</td>\n",
       "      <td>1.0</td>\n",
       "      <td>0.685</td>\n",
       "      <td>0.295</td>\n",
       "      <td>Southern Asia</td>\n",
       "      <td>South Asia</td>\n",
       "      <td>Non-EU</td>\n",
       "      <td>Non-OECD</td>\n",
       "      <td>Low income</td>\n",
       "    </tr>\n",
       "  </tbody>\n",
       "</table>\n",
       "<p>2 rows × 159 columns</p>\n",
       "</div>"
      ],
      "text/plain": [
       "   ID_GPS  ISO      Country        Partyname Partyabb            CPARTY  \\\n",
       "0     1.0  AFG  Afghanistan  Islamic Society       JI   Islamic Society   \n",
       "1     1.0  AFG  Afghanistan  Islamic Society       JI   Islamic Society   \n",
       "\n",
       "  CPARTYABB  Region  Experts  Min_Experts  ...  v2psplats  v2psplats_osp  \\\n",
       "0   AFG_ JI     6.0     11.0          1.0  ...     -0.322          1.561   \n",
       "1   AFG_ JI     6.0     11.0          1.0  ...     -0.322          1.561   \n",
       "\n",
       "   v2psplats_ord  v2xnp_client  v2xps_party  region_un_sub   region_wb  \\\n",
       "0            1.0         0.685        0.295  Southern Asia  South Asia   \n",
       "1            1.0         0.685        0.295  Southern Asia  South Asia   \n",
       "\n",
       "       eu      oecd  incomegroup  \n",
       "0  Non-EU  Non-OECD   Low income  \n",
       "1  Non-EU  Non-OECD   Low income  \n",
       "\n",
       "[2 rows x 159 columns]"
      ]
     },
     "execution_count": 40,
     "metadata": {},
     "output_type": "execute_result"
    }
   ],
   "source": [
    "data.head(2)"
   ]
  },
  {
   "cell_type": "code",
   "execution_count": 41,
   "metadata": {},
   "outputs": [
    {
     "data": {
      "text/plain": [
       "array(['ID_GPS', 'ISO', 'Country', 'Partyname', 'Partyabb', 'CPARTY',\n",
       "       'CPARTYABB', 'Region', 'Experts', 'Min_Experts', 'TYPES',\n",
       "       'Type_Values', 'Type_Populism', 'Type_Populist_Values',\n",
       "       'Type_Partysize_vote', 'Type_Partysize_seat', 'CORE_GPS_ITEMS',\n",
       "       'V1', 'V2', 'V3', 'V4_Scale', 'V4_Bin', 'V4_Ord', 'V5', 'V6_Scale',\n",
       "       'V6_Bin', 'V6_Ord', 'V7', 'V8_Scale', 'V8_Bin', 'V8_Ord', 'V9',\n",
       "       'V10', 'V11', 'V12', 'V13', 'V14', 'V15', 'V16', 'V17', 'V18',\n",
       "       'V19', 'V20', 'V21', 'METAEXPERT', 'YoB', 'Gender', 'Born',\n",
       "       'Citizen', 'Partysupport', 'Ideology', 'Difficulty',\n",
       "       'LocationLatitude', 'LocationLongitude', 'Language', 'METAPARTY',\n",
       "       'Elec_code', 'Elec_year', 'PartyPerVote', 'PartyPerSeats', 'ENEP',\n",
       "       'ENPP', 'LSQINDEX', 'CHES_lrecon', 'CHES_lrecon_salience',\n",
       "       'CHES_galtan', 'CHES_galtan_salience', 'CHES_immigrate_policy',\n",
       "       'CHES_ethnic_minorities', 'CHES_people_vs_elite', 'CHES_experts',\n",
       "       'CHES_vote', 'CHES_seat', 'CHES_electionyear', 'CHES_family',\n",
       "       'CHES_govt', 'PG_family', 'PG_left_right', 'PG_state_market',\n",
       "       'PG_liberty_authority', 'PG_eu_anti_pro', 'Popu_List',\n",
       "       'WVS_LR_PartyVoter', 'WVS_LibCon_PartyVoter',\n",
       "       'WVS_Polmistrust_PartyVoter', 'WVS_LR_MedianVoter',\n",
       "       'WVS_LibCon_MedianVoter', 'LRdistancemedianvoter',\n",
       "       'LCdistancemedianvoter', 'LRdistanceownvoters',\n",
       "       'LCdistanceownvoters', 'PARTYIDCODES', 'ID_ParlGov',\n",
       "       'ID_PartyFacts', 'ID_CHES', 'ID_ESS', 'ID_CMP', 'ID_castles_mair',\n",
       "       'ID_huber_inglehart', 'ID_ray', 'ID_benoit_laver', 'ID_EES',\n",
       "       'ID_WVS', 'METACOUNTRY', 'CountryName', 'ID_Cow', 'ID_VDem',\n",
       "       'Region_9', 'Region_10', 'Region_19', 'OECD', 'polity', 'polity2',\n",
       "       'FH_Regime', 'FH_PoliticalRights', 'FH_CivilLiberties', 'Area',\n",
       "       'Pop1990', 'Pop2000', 'Pop2018', 'GDP', 'Longevity', 'Corruption',\n",
       "       'Electoral_Integrity', 'VDem_regime', 'v2x_polyarchy',\n",
       "       'v2x_libdem', 'v2xel_frefair', 'v2elfrfair', 'v2elfrfair_osp',\n",
       "       'v2elfrfair_ord', 'v2elloelsy', 'v2elparlel', 'v2elncbpr',\n",
       "       'Turnout', 'v2eltrnout', 'v2elvaptrn', 'v2psbars', 'v2psbars_osp',\n",
       "       'v2psbars_ord', 'v2psorgs', 'v2psorgs_osp', 'v2psorgs_ord',\n",
       "       'v2psprbrch', 'v2psprbrch_osp', 'v2psprbrch_ord', 'v2psprlnks',\n",
       "       'v2psprlnks_osp', 'v2psprlnks_ord', 'v2psplats', 'v2psplats_osp',\n",
       "       'v2psplats_ord', 'v2xnp_client', 'v2xps_party', 'region_un_sub',\n",
       "       'region_wb', 'eu', 'oecd', 'incomegroup'], dtype=object)"
      ]
     },
     "execution_count": 41,
     "metadata": {},
     "output_type": "execute_result"
    }
   ],
   "source": [
    "data.columns.values"
   ]
  },
  {
   "cell_type": "code",
   "execution_count": 42,
   "metadata": {},
   "outputs": [],
   "source": [
    "data.to_excel(\"datavis.xlsx\", sheet_name=\"cleaned_data\")"
   ]
  },
  {
   "cell_type": "code",
   "execution_count": null,
   "metadata": {},
   "outputs": [],
   "source": []
  }
 ],
 "metadata": {
  "kernelspec": {
   "display_name": "Python 3",
   "language": "python",
   "name": "python3"
  },
  "language_info": {
   "codemirror_mode": {
    "name": "ipython",
    "version": 3
   },
   "file_extension": ".py",
   "mimetype": "text/x-python",
   "name": "python",
   "nbconvert_exporter": "python",
   "pygments_lexer": "ipython3",
   "version": "3.7.4"
  }
 },
 "nbformat": 4,
 "nbformat_minor": 2
}
